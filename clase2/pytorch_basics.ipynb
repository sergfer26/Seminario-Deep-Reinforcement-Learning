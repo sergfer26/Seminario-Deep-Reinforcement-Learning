{
  "nbformat": 4,
  "nbformat_minor": 0,
  "metadata": {
    "colab": {
      "name": "pytorch_basics",
      "provenance": [],
      "include_colab_link": true
    },
    "kernelspec": {
      "name": "python3",
      "display_name": "Python 3"
    }
  },
  "cells": [
    {
      "cell_type": "markdown",
      "metadata": {
        "id": "view-in-github",
        "colab_type": "text"
      },
      "source": [
        "<a href=\"https://colab.research.google.com/github/sergfer26/Seminario-Deep-Reinforcement-Learning/blob/master/clase2/pytorch_basics.ipynb\" target=\"_parent\"><img src=\"https://colab.research.google.com/assets/colab-badge.svg\" alt=\"Open In Colab\"/></a>"
      ]
    },
    {
      "cell_type": "markdown",
      "metadata": {
        "id": "Q9d92pFuwf-u",
        "colab_type": "text"
      },
      "source": [
        "# Pytorch Basics\n",
        "\n",
        "El objetivo de este notebook será familiarizar al lector con las funciones de Pytorch que son:\n",
        "\n",
        "\n",
        "\n",
        "*   Crear tensores.\n",
        "*   Operar con tensores.\n",
        "*   Indexar, separar y unir tensores.\n",
        "*   Calcular gradientes con tensores.\n",
        "*   Usar tensores de CUDA con GPU.\n",
        "\n",
        "## Creación de Tensores\n",
        "\n",
        "Usaremos la biblioteca ``torch`` para crear tensores."
      ]
    },
    {
      "cell_type": "code",
      "metadata": {
        "id": "vCButo8hwcvu",
        "colab_type": "code",
        "outputId": "9f2842ff-ba6c-47bd-f4a2-22bdf7d57c8a",
        "colab": {
          "base_uri": "https://localhost:8080/",
          "height": 104
        }
      },
      "source": [
        "import torch\n",
        "import numpy as np\n",
        "\n",
        "def describe_tensor(x):\n",
        "  print(\"Type: {}\".format(x.type()))\n",
        "  print(\"Shape/size: {}\".format(x.shape))\n",
        "  print(\"Values: \\n {}\".format(x))\n",
        "\n",
        "x = torch.Tensor(2, 4)\n",
        "describe_tensor(x)"
      ],
      "execution_count": 0,
      "outputs": [
        {
          "output_type": "stream",
          "text": [
            "Type: torch.FloatTensor\n",
            "Shape/size: torch.Size([2, 4])\n",
            "Values: \n",
            " tensor([[2.5028e-36, 0.0000e+00, 3.7835e-44, 0.0000e+00],\n",
            "        [       nan, 0.0000e+00, 1.3733e-14, 6.4069e+02]])\n"
          ],
          "name": "stdout"
        }
      ]
    },
    {
      "cell_type": "markdown",
      "metadata": {
        "id": "uqkuGfFu7tio",
        "colab_type": "text"
      },
      "source": [
        "También podemos crear tensores cuyos valores sigan alguna distribución."
      ]
    },
    {
      "cell_type": "code",
      "metadata": {
        "id": "fBE5DDIzyuw2",
        "colab_type": "code",
        "outputId": "66e70d6f-43cf-43bb-c281-1de6025ce792",
        "colab": {
          "base_uri": "https://localhost:8080/",
          "height": 364
        }
      },
      "source": [
        "y = torch.rand(2, 3, 4) # Uniforme(0,1)\n",
        "describe_tensor(y)\n",
        "z = torch.randn(2, 3, 4) # Normal std\n",
        "describe_tensor(z)"
      ],
      "execution_count": 0,
      "outputs": [
        {
          "output_type": "stream",
          "text": [
            "Type: torch.FloatTensor\n",
            "Shape/size: torch.Size([2, 3, 4])\n",
            "Values: \n",
            " tensor([[[0.0950, 0.8365, 0.1956, 0.9311],\n",
            "         [0.3231, 0.7455, 0.3467, 0.4971],\n",
            "         [0.8818, 0.8474, 0.3964, 0.1161]],\n",
            "\n",
            "        [[0.4436, 0.4460, 0.4516, 0.2657],\n",
            "         [0.9675, 0.1839, 0.4705, 0.3259],\n",
            "         [0.6203, 0.2159, 0.7888, 0.5046]]])\n",
            "Type: torch.FloatTensor\n",
            "Shape/size: torch.Size([2, 3, 4])\n",
            "Values: \n",
            " tensor([[[ 0.0616, -0.5176, -0.5782, -0.1833],\n",
            "         [-0.7758,  0.0661,  0.4597, -0.5336],\n",
            "         [ 0.7803, -1.0326,  0.6920, -0.3225]],\n",
            "\n",
            "        [[-0.9201, -1.2559, -0.9215, -1.0630],\n",
            "         [-0.5460, -0.5802,  0.0663, -0.1143],\n",
            "         [-1.3410, -0.0222,  0.5675,  0.2889]]])\n"
          ],
          "name": "stdout"
        }
      ]
    },
    {
      "cell_type": "markdown",
      "metadata": {
        "id": "ez5uO1ky8vFE",
        "colab_type": "text"
      },
      "source": [
        "Más ejemplos."
      ]
    },
    {
      "cell_type": "code",
      "metadata": {
        "id": "CMRlCh_V8dgN",
        "colab_type": "code",
        "outputId": "60a9a58a-c9d5-4a03-edbe-5dcf8ce2e55f",
        "colab": {
          "base_uri": "https://localhost:8080/",
          "height": 278
        }
      },
      "source": [
        "describe_tensor(torch.zeros(2, 3))\n",
        "x = torch.ones(2, 3)\n",
        "describe_tensor(x)\n",
        "x.fill_(5)\n",
        "describe_tensor(x)"
      ],
      "execution_count": 0,
      "outputs": [
        {
          "output_type": "stream",
          "text": [
            "Type: torch.FloatTensor\n",
            "Shape/size: torch.Size([2, 3])\n",
            "Values: \n",
            " tensor([[0., 0., 0.],\n",
            "        [0., 0., 0.]])\n",
            "Type: torch.FloatTensor\n",
            "Shape/size: torch.Size([2, 3])\n",
            "Values: \n",
            " tensor([[1., 1., 1.],\n",
            "        [1., 1., 1.]])\n",
            "Type: torch.FloatTensor\n",
            "Shape/size: torch.Size([2, 3])\n",
            "Values: \n",
            " tensor([[5., 5., 5.],\n",
            "        [5., 5., 5.]])\n"
          ],
          "name": "stdout"
        }
      ]
    },
    {
      "cell_type": "markdown",
      "metadata": {
        "id": "d7YYyqJ8E5yh",
        "colab_type": "text"
      },
      "source": [
        "Ejemplos usando lista."
      ]
    },
    {
      "cell_type": "code",
      "metadata": {
        "id": "Sk90IBpAEvzl",
        "colab_type": "code",
        "outputId": "ca7e4a23-327b-4bb0-bc73-5cda01f49ed9",
        "colab": {
          "base_uri": "https://localhost:8080/",
          "height": 121
        }
      },
      "source": [
        "x = torch.Tensor([[1, 2, 3], \n",
        "                  [5, 6, 7],\n",
        "                  [8, 9, 10]])\n",
        "describe_tensor(x)"
      ],
      "execution_count": 0,
      "outputs": [
        {
          "output_type": "stream",
          "text": [
            "Type: torch.FloatTensor\n",
            "Shape/size: torch.Size([3, 3])\n",
            "Values: \n",
            " tensor([[ 1.,  2.,  3.],\n",
            "        [ 5.,  6.,  7.],\n",
            "        [ 8.,  9., 10.]])\n"
          ],
          "name": "stdout"
        }
      ]
    },
    {
      "cell_type": "markdown",
      "metadata": {
        "id": "qU3hEazn0g2B",
        "colab_type": "text"
      },
      "source": [
        "## Operaciones con Tensores\n",
        "\n",
        "\n",
        "\n",
        " ### Adición.\n",
        "\n"
      ]
    },
    {
      "cell_type": "code",
      "metadata": {
        "id": "3wuP6XYo0gDa",
        "colab_type": "code",
        "outputId": "74bfca9a-7d9f-4791-8f22-4925fc89a7db",
        "colab": {
          "base_uri": "https://localhost:8080/",
          "height": 191
        }
      },
      "source": [
        "w = torch.add(z, y)\n",
        "describe_tensor(w)"
      ],
      "execution_count": 0,
      "outputs": [
        {
          "output_type": "stream",
          "text": [
            "Type: torch.FloatTensor\n",
            "Shape/size: torch.Size([2, 3, 4])\n",
            "Values: \n",
            " tensor([[[ 0.1566,  0.3189, -0.3826,  0.7478],\n",
            "         [-0.4527,  0.8116,  0.8064, -0.0366],\n",
            "         [ 1.6621, -0.1851,  1.0884, -0.2064]],\n",
            "\n",
            "        [[-0.4764, -0.8099, -0.4699, -0.7973],\n",
            "         [ 0.4215, -0.3963,  0.5368,  0.2116],\n",
            "         [-0.7207,  0.1937,  1.3563,  0.7935]]])\n"
          ],
          "name": "stdout"
        }
      ]
    },
    {
      "cell_type": "markdown",
      "metadata": {
        "id": "Uw0IUaq03zsB",
        "colab_type": "text"
      },
      "source": [
        "\n",
        "\n",
        "### Redimencionamiento\n",
        "\n"
      ]
    },
    {
      "cell_type": "code",
      "metadata": {
        "id": "OQF8BPkcFVTP",
        "colab_type": "code",
        "outputId": "3525036d-1bea-42e1-cd2c-857c1287ac6b",
        "colab": {
          "base_uri": "https://localhost:8080/",
          "height": 86
        }
      },
      "source": [
        "x = torch.arange(6)\n",
        "describe_tensor(x) "
      ],
      "execution_count": 0,
      "outputs": [
        {
          "output_type": "stream",
          "text": [
            "Type: torch.LongTensor\n",
            "Shape/size: torch.Size([6])\n",
            "Values: \n",
            " tensor([0, 1, 2, 3, 4, 5])\n"
          ],
          "name": "stdout"
        }
      ]
    },
    {
      "cell_type": "code",
      "metadata": {
        "id": "DA6fwd1n4DTf",
        "colab_type": "code",
        "outputId": "65ebccc6-fcd0-46fa-9615-26f95637b344",
        "colab": {
          "base_uri": "https://localhost:8080/",
          "height": 104
        }
      },
      "source": [
        "x = x.view(2,3)\n",
        "describe_tensor(x)"
      ],
      "execution_count": 0,
      "outputs": [
        {
          "output_type": "stream",
          "text": [
            "Type: torch.LongTensor\n",
            "Shape/size: torch.Size([2, 3])\n",
            "Values: \n",
            " tensor([[0, 1, 2],\n",
            "        [3, 4, 5]])\n"
          ],
          "name": "stdout"
        }
      ]
    },
    {
      "cell_type": "code",
      "metadata": {
        "id": "TO7pTtIb4M6D",
        "colab_type": "code",
        "outputId": "71f3105e-5459-45b8-d14f-fb3c195b683f",
        "colab": {
          "base_uri": "https://localhost:8080/",
          "height": 86
        }
      },
      "source": [
        "describe_tensor(torch.sum(x, dim=0)) # suma por primer eje"
      ],
      "execution_count": 0,
      "outputs": [
        {
          "output_type": "stream",
          "text": [
            "Type: torch.LongTensor\n",
            "Shape/size: torch.Size([3])\n",
            "Values: \n",
            " tensor([3, 5, 7])\n"
          ],
          "name": "stdout"
        }
      ]
    },
    {
      "cell_type": "code",
      "metadata": {
        "id": "ErTXsaJk4cvf",
        "colab_type": "code",
        "outputId": "42ee4ad5-ea21-4361-a515-d59097942a0f",
        "colab": {
          "base_uri": "https://localhost:8080/",
          "height": 86
        }
      },
      "source": [
        "describe_tensor(torch.sum(x, dim=1)) # suma por segundo eje"
      ],
      "execution_count": 0,
      "outputs": [
        {
          "output_type": "stream",
          "text": [
            "Type: torch.LongTensor\n",
            "Shape/size: torch.Size([2])\n",
            "Values: \n",
            " tensor([ 3, 12])\n"
          ],
          "name": "stdout"
        }
      ]
    },
    {
      "cell_type": "code",
      "metadata": {
        "id": "wBsh7PKO47QO",
        "colab_type": "code",
        "outputId": "74228de0-9665-447d-fdcc-9313512d743e",
        "colab": {
          "base_uri": "https://localhost:8080/",
          "height": 225
        }
      },
      "source": [
        "z = torch.arange(8)\n",
        "z = z.view(2,2,2)\n",
        "describe_tensor(z) #Transponer vectores\n",
        "describe_tensor(torch.transpose(z, 0, 1))"
      ],
      "execution_count": 0,
      "outputs": [
        {
          "output_type": "stream",
          "text": [
            "Type: torch.LongTensor\n",
            "Shape/size: torch.Size([8])\n",
            "Values: \n",
            " tensor([0, 1, 2, 3, 4, 5, 6, 7])\n",
            "Type: torch.LongTensor\n",
            "Shape/size: torch.Size([2, 2, 2])\n",
            "Values: \n",
            " tensor([[[0, 1],\n",
            "         [4, 5]],\n",
            "\n",
            "        [[2, 3],\n",
            "         [6, 7]]])\n"
          ],
          "name": "stdout"
        }
      ]
    },
    {
      "cell_type": "markdown",
      "metadata": {
        "id": "-twnBwt45lVF",
        "colab_type": "text"
      },
      "source": [
        "\n",
        "\n",
        "### Indexación, separación y unión de tensores \n",
        "\n"
      ]
    },
    {
      "cell_type": "code",
      "metadata": {
        "id": "rxhwYP7R5Ity",
        "colab_type": "code",
        "outputId": "b2aa1a96-4587-4a0c-ab07-2bbf50536e47",
        "colab": {
          "base_uri": "https://localhost:8080/",
          "height": 86
        }
      },
      "source": [
        "describe_tensor(x[:1, :2])"
      ],
      "execution_count": 0,
      "outputs": [
        {
          "output_type": "stream",
          "text": [
            "Type: torch.LongTensor\n",
            "Shape/size: torch.Size([1, 2])\n",
            "Values: \n",
            " tensor([[0, 1]])\n"
          ],
          "name": "stdout"
        }
      ]
    },
    {
      "cell_type": "code",
      "metadata": {
        "id": "RninWz2V6MdQ",
        "colab_type": "code",
        "outputId": "5cc6a6df-4ccd-4d12-8d9b-51dff27230ff",
        "colab": {
          "base_uri": "https://localhost:8080/",
          "height": 86
        }
      },
      "source": [
        "describe_tensor(x[0,1])"
      ],
      "execution_count": 0,
      "outputs": [
        {
          "output_type": "stream",
          "text": [
            "Type: torch.LongTensor\n",
            "Shape/size: torch.Size([])\n",
            "Values: \n",
            " 1\n"
          ],
          "name": "stdout"
        }
      ]
    },
    {
      "cell_type": "code",
      "metadata": {
        "id": "tbFMOb7O6vwt",
        "colab_type": "code",
        "outputId": "def6e085-5e9e-4b4e-c8de-8c94656be6b0",
        "colab": {
          "base_uri": "https://localhost:8080/",
          "height": 104
        }
      },
      "source": [
        "indices = torch.LongTensor([0, 2])\n",
        "describe_tensor(torch.index_select(x, dim=1, index=indices))"
      ],
      "execution_count": 0,
      "outputs": [
        {
          "output_type": "stream",
          "text": [
            "Type: torch.LongTensor\n",
            "Shape/size: torch.Size([2, 2])\n",
            "Values: \n",
            " tensor([[0, 2],\n",
            "        [3, 5]])\n"
          ],
          "name": "stdout"
        }
      ]
    },
    {
      "cell_type": "code",
      "metadata": {
        "id": "pjtdO_T37J29",
        "colab_type": "code",
        "outputId": "7f7c05a6-48c8-47a7-c3d5-230f7591d0a9",
        "colab": {
          "base_uri": "https://localhost:8080/",
          "height": 104
        }
      },
      "source": [
        "indices = torch.LongTensor([0, 0])\n",
        "describe_tensor(torch.index_select(x, dim=0, index=indices))"
      ],
      "execution_count": 0,
      "outputs": [
        {
          "output_type": "stream",
          "text": [
            "Type: torch.LongTensor\n",
            "Shape/size: torch.Size([2, 3])\n",
            "Values: \n",
            " tensor([[0, 1, 2],\n",
            "        [0, 1, 2]])\n"
          ],
          "name": "stdout"
        }
      ]
    },
    {
      "cell_type": "code",
      "metadata": {
        "id": "CNdoOgjW7aVV",
        "colab_type": "code",
        "outputId": "62a5f42a-3a2c-450b-8359-99427666e28b",
        "colab": {
          "base_uri": "https://localhost:8080/",
          "height": 86
        }
      },
      "source": [
        "r = torch.arange(2).long()\n",
        "c = torch.arange(2).long()\n",
        "describe_tensor(x[r, c])"
      ],
      "execution_count": 0,
      "outputs": [
        {
          "output_type": "stream",
          "text": [
            "Type: torch.LongTensor\n",
            "Shape/size: torch.Size([2])\n",
            "Values: \n",
            " tensor([0, 4])\n"
          ],
          "name": "stdout"
        }
      ]
    },
    {
      "cell_type": "markdown",
      "metadata": {
        "id": "SZcfLrWrD9m6",
        "colab_type": "text"
      },
      "source": [
        "#### Concatenación "
      ]
    },
    {
      "cell_type": "code",
      "metadata": {
        "id": "E8saL_9y7jsG",
        "colab_type": "code",
        "outputId": "a15e8fc8-0106-43c8-fce4-eb44758cd9ae",
        "colab": {
          "base_uri": "https://localhost:8080/",
          "height": 139
        }
      },
      "source": [
        "describe_tensor(torch.cat([x, x], dim=0))"
      ],
      "execution_count": 0,
      "outputs": [
        {
          "output_type": "stream",
          "text": [
            "Type: torch.LongTensor\n",
            "Shape/size: torch.Size([4, 3])\n",
            "Values: \n",
            " tensor([[0, 1, 2],\n",
            "        [3, 4, 5],\n",
            "        [0, 1, 2],\n",
            "        [3, 4, 5]])\n"
          ],
          "name": "stdout"
        }
      ]
    },
    {
      "cell_type": "code",
      "metadata": {
        "id": "64OyZxGRELDw",
        "colab_type": "code",
        "outputId": "dc2818c4-37c6-46e2-ac10-683e9dd58f58",
        "colab": {
          "base_uri": "https://localhost:8080/",
          "height": 104
        }
      },
      "source": [
        "describe_tensor(torch.cat([x, x], dim=1))"
      ],
      "execution_count": 0,
      "outputs": [
        {
          "output_type": "stream",
          "text": [
            "Type: torch.LongTensor\n",
            "Shape/size: torch.Size([2, 6])\n",
            "Values: \n",
            " tensor([[0, 1, 2, 0, 1, 2],\n",
            "        [3, 4, 5, 3, 4, 5]])\n"
          ],
          "name": "stdout"
        }
      ]
    },
    {
      "cell_type": "markdown",
      "metadata": {
        "id": "vXAJtSJCErkj",
        "colab_type": "text"
      },
      "source": [
        "#### Apilamiento"
      ]
    },
    {
      "cell_type": "code",
      "metadata": {
        "id": "GQGMyjCZEW9T",
        "colab_type": "code",
        "outputId": "59dc83b3-367a-4aab-d350-c2515a6dfc62",
        "colab": {
          "base_uri": "https://localhost:8080/",
          "height": 156
        }
      },
      "source": [
        "describe_tensor(torch.stack([x, x]))"
      ],
      "execution_count": 0,
      "outputs": [
        {
          "output_type": "stream",
          "text": [
            "Type: torch.LongTensor\n",
            "Shape/size: torch.Size([2, 2, 3])\n",
            "Values: \n",
            " tensor([[[0, 1, 2],\n",
            "         [3, 4, 5]],\n",
            "\n",
            "        [[0, 1, 2],\n",
            "         [3, 4, 5]]])\n"
          ],
          "name": "stdout"
        }
      ]
    },
    {
      "cell_type": "markdown",
      "metadata": {
        "id": "9aJnawh9FApE",
        "colab_type": "text"
      },
      "source": [
        "### Multiplicación de tensores"
      ]
    },
    {
      "cell_type": "code",
      "metadata": {
        "id": "hagY3qcaEi2D",
        "colab_type": "code",
        "outputId": "ca8e0c5c-715b-40b6-e575-a267a01950bf",
        "colab": {
          "base_uri": "https://localhost:8080/",
          "height": 121
        }
      },
      "source": [
        "x = x.float()\n",
        "y = torch.ones(3,2)\n",
        "y[:, 1] += 1\n",
        "describe_tensor(y)"
      ],
      "execution_count": 0,
      "outputs": [
        {
          "output_type": "stream",
          "text": [
            "Type: torch.FloatTensor\n",
            "Shape/size: torch.Size([3, 2])\n",
            "Values: \n",
            " tensor([[1., 2.],\n",
            "        [1., 2.],\n",
            "        [1., 2.]])\n"
          ],
          "name": "stdout"
        }
      ]
    },
    {
      "cell_type": "code",
      "metadata": {
        "id": "GNleLooRFWGj",
        "colab_type": "code",
        "outputId": "fde5a34f-0f10-4e4b-a9fe-747ffc7e7c10",
        "colab": {
          "base_uri": "https://localhost:8080/",
          "height": 104
        }
      },
      "source": [
        "describe_tensor(torch.mm(x, y))"
      ],
      "execution_count": 0,
      "outputs": [
        {
          "output_type": "stream",
          "text": [
            "Type: torch.FloatTensor\n",
            "Shape/size: torch.Size([2, 2])\n",
            "Values: \n",
            " tensor([[ 3.,  6.],\n",
            "        [12., 24.]])\n"
          ],
          "name": "stdout"
        }
      ]
    },
    {
      "cell_type": "markdown",
      "metadata": {
        "id": "4b7FBxVfF57V",
        "colab_type": "text"
      },
      "source": [
        "### Tensores y graficas computacionales\n",
        "\n",
        "Hasta ahora hemos visto que los tensores de ``Pytorch`` encapusalan  información numérica que es posible manipular a través de operaciones algebraicas, de indexación y de reescalamiento. Pero requerimos de una herramienta que nos permita saber que valores corresponden a los parámetros y posteriormente calcular su gradiente. Para lo anterior usaremos la bandera ``requieres_grad`` que si tiene como valor ``True`` en algún tensor, podremos rastrear el tensor y calcular su gradiente."
      ]
    },
    {
      "cell_type": "code",
      "metadata": {
        "id": "GiJeQKFZFcfm",
        "colab_type": "code",
        "outputId": "56b7ee29-0ec2-4304-b721-790ff3d1dc6a",
        "colab": {
          "base_uri": "https://localhost:8080/",
          "height": 121
        }
      },
      "source": [
        "x = torch.ones(2,2, requires_grad=True)\n",
        "describe_tensor(x)\n",
        "print(x.grad is None)"
      ],
      "execution_count": 0,
      "outputs": [
        {
          "output_type": "stream",
          "text": [
            "Type: torch.FloatTensor\n",
            "Shape/size: torch.Size([2, 2])\n",
            "Values: \n",
            " tensor([[1., 1.],\n",
            "        [1., 1.]], requires_grad=True)\n",
            "True\n"
          ],
          "name": "stdout"
        }
      ]
    },
    {
      "cell_type": "code",
      "metadata": {
        "id": "M4gAhPJgJXbe",
        "colab_type": "code",
        "outputId": "44ead6a0-b230-4af7-cce2-9806c5d9d18e",
        "colab": {
          "base_uri": "https://localhost:8080/",
          "height": 121
        }
      },
      "source": [
        "y =(x + 2)*(x + 5) + 3\n",
        "describe_tensor(y)\n",
        "print(x.grad is None)"
      ],
      "execution_count": 0,
      "outputs": [
        {
          "output_type": "stream",
          "text": [
            "Type: torch.FloatTensor\n",
            "Shape/size: torch.Size([2, 2])\n",
            "Values: \n",
            " tensor([[21., 21.],\n",
            "        [21., 21.]], grad_fn=<AddBackward0>)\n",
            "True\n"
          ],
          "name": "stdout"
        }
      ]
    },
    {
      "cell_type": "code",
      "metadata": {
        "id": "dfZ4E8MvJxxh",
        "colab_type": "code",
        "outputId": "433f89c3-40f1-498e-9793-0d2fa81ffbf9",
        "colab": {
          "base_uri": "https://localhost:8080/",
          "height": 121
        }
      },
      "source": [
        "z = y.mean()\n",
        "describe_tensor(z)\n",
        "z.backward()\n",
        "# print(x.grad is None)\n",
        "x.grad"
      ],
      "execution_count": 0,
      "outputs": [
        {
          "output_type": "stream",
          "text": [
            "Type: torch.FloatTensor\n",
            "Shape/size: torch.Size([])\n",
            "Values: \n",
            " 21.0\n"
          ],
          "name": "stdout"
        },
        {
          "output_type": "execute_result",
          "data": {
            "text/plain": [
              "tensor([[2.2500, 2.2500],\n",
              "        [2.2500, 2.2500]])"
            ]
          },
          "metadata": {
            "tags": []
          },
          "execution_count": 72
        }
      ]
    },
    {
      "cell_type": "markdown",
      "metadata": {
        "id": "SC-uN_eRK056",
        "colab_type": "text"
      },
      "source": [
        "El método ``backward()`` calcula el valor del gradiente para un tensor donde la variable es un tensor definido anteriormente (en nuestro caso ``x``). Podemos pensar que lo que se esta calculando es su contrubución a la función de salida.\n",
        "\n",
        "En Pytorch acceder a los gradientes de cada nodo de la gráfica computacional al usar ``.grad``. Los optimizadores usan ``.grad`` para actualizar los valores de los parámetros. "
      ]
    },
    {
      "cell_type": "markdown",
      "metadata": {
        "id": "ev_SG2lVUR7o",
        "colab_type": "text"
      },
      "source": [
        "## Tensores CUDA"
      ]
    },
    {
      "cell_type": "code",
      "metadata": {
        "id": "JRJQRVVhKL2w",
        "colab_type": "code",
        "outputId": "ee824f53-55d9-43ba-aa5e-c29da759de78",
        "colab": {
          "base_uri": "https://localhost:8080/",
          "height": 34
        }
      },
      "source": [
        "print(torch.cuda.is_available())"
      ],
      "execution_count": 0,
      "outputs": [
        {
          "output_type": "stream",
          "text": [
            "False\n"
          ],
          "name": "stdout"
        }
      ]
    },
    {
      "cell_type": "code",
      "metadata": {
        "id": "UXZNZVqkU2yC",
        "colab_type": "code",
        "colab": {}
      },
      "source": [
        ""
      ],
      "execution_count": 0,
      "outputs": []
    }
  ]
}