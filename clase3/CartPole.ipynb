{
  "nbformat": 4,
  "nbformat_minor": 0,
  "metadata": {
    "colab": {
      "name": "CartPole.ipynb",
      "provenance": [],
      "collapsed_sections": [],
      "include_colab_link": true
    },
    "kernelspec": {
      "name": "python3",
      "display_name": "Python 3"
    }
  },
  "cells": [
    {
      "cell_type": "markdown",
      "metadata": {
        "id": "view-in-github",
        "colab_type": "text"
      },
      "source": [
        "<a href=\"https://colab.research.google.com/github/sergfer26/Seminario-Deep-Reinforcement-Learning/blob/master/clase3/CartPole.ipynb\" target=\"_parent\"><img src=\"https://colab.research.google.com/assets/colab-badge.svg\" alt=\"Open In Colab\"/></a>"
      ]
    },
    {
      "cell_type": "markdown",
      "metadata": {
        "id": "la_eBG6zggoV",
        "colab_type": "text"
      },
      "source": [
        "# The CartPole session "
      ]
    },
    {
      "cell_type": "code",
      "metadata": {
        "id": "edltR-spZFUr",
        "colab_type": "code",
        "colab": {}
      },
      "source": [
        "import gym"
      ],
      "execution_count": 0,
      "outputs": []
    },
    {
      "cell_type": "code",
      "metadata": {
        "id": "1qGZ47SsZOz4",
        "colab_type": "code",
        "colab": {}
      },
      "source": [
        "env = gym.make('CartPole-v0')"
      ],
      "execution_count": 0,
      "outputs": []
    },
    {
      "cell_type": "markdown",
      "metadata": {
        "id": "Er4QWaj2bUtw",
        "colab_type": "text"
      },
      "source": [
        ""
      ]
    },
    {
      "cell_type": "code",
      "metadata": {
        "id": "GzyhYXcpZZRl",
        "colab_type": "code",
        "outputId": "2d94712e-c971-4f49-cb19-2d7e9ec82be4",
        "colab": {
          "base_uri": "https://localhost:8080/",
          "height": 34
        }
      },
      "source": [
        "obs = env.reset()\n",
        "obs"
      ],
      "execution_count": 0,
      "outputs": [
        {
          "output_type": "execute_result",
          "data": {
            "text/plain": [
              "array([-0.0200392 ,  0.03246458, -0.00725774,  0.04659607])"
            ]
          },
          "metadata": {
            "tags": []
          },
          "execution_count": 4
        }
      ]
    },
    {
      "cell_type": "markdown",
      "metadata": {
        "id": "HVW14GDAh_gG",
        "colab_type": "text"
      },
      "source": [
        "Sólo se tienen dos acciones posibles: mover la plataforma a la dereche o izquierda, es decir que el espcio de acciones es discreto."
      ]
    },
    {
      "cell_type": "code",
      "metadata": {
        "id": "MYJC-ncSbHR2",
        "colab_type": "code",
        "outputId": "4c7bdc3c-a5e0-42d4-fa63-06609a04bbcb",
        "colab": {
          "base_uri": "https://localhost:8080/",
          "height": 34
        }
      },
      "source": [
        "env.action_space"
      ],
      "execution_count": 0,
      "outputs": [
        {
          "output_type": "execute_result",
          "data": {
            "text/plain": [
              "Discrete(2)"
            ]
          },
          "metadata": {
            "tags": []
          },
          "execution_count": 5
        }
      ]
    },
    {
      "cell_type": "markdown",
      "metadata": {
        "id": "13cH-wnLibdn",
        "colab_type": "text"
      },
      "source": [
        "Sólo se tienen cuatro observaciones, cuyos valores están en el intervalo $(-\\infty, \\infty)$."
      ]
    },
    {
      "cell_type": "code",
      "metadata": {
        "id": "JxwIw1z1iUjz",
        "colab_type": "code",
        "outputId": "ca7aeeef-8b6c-4257-e0c9-95368f8a3f90",
        "colab": {
          "base_uri": "https://localhost:8080/",
          "height": 34
        }
      },
      "source": [
        "env.observation_space"
      ],
      "execution_count": 0,
      "outputs": [
        {
          "output_type": "execute_result",
          "data": {
            "text/plain": [
              "Box(4,)"
            ]
          },
          "metadata": {
            "tags": []
          },
          "execution_count": 6
        }
      ]
    },
    {
      "cell_type": "markdown",
      "metadata": {
        "id": "ntuIbs5mjP2H",
        "colab_type": "text"
      },
      "source": [
        "A apartir de cada accion que se ejecuta recibimos información proporcionada por el ambiente  como se muestra a continuación."
      ]
    },
    {
      "cell_type": "code",
      "metadata": {
        "id": "EgyMtKLFiqKu",
        "colab_type": "code",
        "outputId": "303de64d-561b-4007-e0b2-8fd5362a2155",
        "colab": {
          "base_uri": "https://localhost:8080/",
          "height": 34
        }
      },
      "source": [
        "# recibe la accion en cada paso\n",
        "env.step(0) "
      ],
      "execution_count": 0,
      "outputs": [
        {
          "output_type": "execute_result",
          "data": {
            "text/plain": [
              "(array([-0.0193899 , -0.16255255, -0.00632582,  0.33698031]), 1.0, False, {})"
            ]
          },
          "metadata": {
            "tags": []
          },
          "execution_count": 7
        }
      ]
    },
    {
      "cell_type": "markdown",
      "metadata": {
        "id": "q4RuPfoikKbL",
        "colab_type": "text"
      },
      "source": [
        "La información que nos proporciona es la siguiente:\n",
        "\n",
        "\n",
        "*   Un vector que representa a las observaciones.\n",
        "*   Una recompensa de valor  $1.0$.\n",
        "*   La señal  ``done flag = False``, que significa que el episodio no ha terminado.\n",
        "*   ¿Un diccionario vacío?\n",
        "\n"
      ]
    },
    {
      "cell_type": "code",
      "metadata": {
        "id": "Tq-n96luj3vS",
        "colab_type": "code",
        "outputId": "221cfe4e-daa4-4b67-c99e-a8895a4a7ba2",
        "colab": {
          "base_uri": "https://localhost:8080/",
          "height": 34
        }
      },
      "source": [
        "env.action_space.sample() "
      ],
      "execution_count": 0,
      "outputs": [
        {
          "output_type": "execute_result",
          "data": {
            "text/plain": [
              "1"
            ]
          },
          "metadata": {
            "tags": []
          },
          "execution_count": 9
        }
      ]
    },
    {
      "cell_type": "code",
      "metadata": {
        "id": "IV1vnbGvj-Vr",
        "colab_type": "code",
        "outputId": "c3b5bf01-faa4-4ebd-9093-a8277d07d27b",
        "colab": {
          "base_uri": "https://localhost:8080/",
          "height": 52
        }
      },
      "source": [
        "env.observation_space.sample()"
      ],
      "execution_count": 0,
      "outputs": [
        {
          "output_type": "execute_result",
          "data": {
            "text/plain": [
              "array([ 2.0658181e+00,  6.9937125e+37,  3.7601247e-02, -5.1957849e+37],\n",
              "      dtype=float32)"
            ]
          },
          "metadata": {
            "tags": []
          },
          "execution_count": 10
        }
      ]
    },
    {
      "cell_type": "markdown",
      "metadata": {
        "id": "bNmcs1oCl1vL",
        "colab_type": "text"
      },
      "source": [
        "El código anterior nos da una muetra como usar el método ``sample()`` de la clase ``Space``sobre ``action_space`` y ``observation_space``,  lo que hace es tomar de forma aleatoria acciones y observaciones, respectivamente. En particular tomar acciones de forma aleatoria es de gran utilidad cuando no se sabe como actuar para tener un mejor desempeño.\n",
        "\n",
        "# The random CartPole agent"
      ]
    },
    {
      "cell_type": "markdown",
      "metadata": {
        "id": "2IMwP-FTrWwQ",
        "colab_type": "text"
      },
      "source": [
        "El siguiente código muetra como inicializar un agente que se comporte de forma estocática, en este caso no son relavantes las observaciones."
      ]
    },
    {
      "cell_type": "code",
      "metadata": {
        "id": "LyOWVm4ylzbt",
        "colab_type": "code",
        "colab": {}
      },
      "source": [
        "if __name__ == \"__main__\":\n",
        "  total_reward = 0.0\n",
        "  total_steps = 0\n",
        "  obs = env.reset()\n",
        "  \n",
        "  while True:\n",
        "    action = env.action_space.sample()\n",
        "    obs, reward, done, _ = env.step(action)\n",
        "    total_reward += reward \n",
        "    total_steps += 1\n",
        "    if done:\n",
        "      break"
      ],
      "execution_count": 0,
      "outputs": []
    },
    {
      "cell_type": "code",
      "metadata": {
        "id": "5OrTv-VorD4B",
        "colab_type": "code",
        "outputId": "adde5a82-0b49-4f30-d5ba-5f795c1f6356",
        "colab": {
          "base_uri": "https://localhost:8080/",
          "height": 34
        }
      },
      "source": [
        "print(\"Episodio terminado en %d pasos con recompensa de % .2f\" % (total_steps, total_reward))"
      ],
      "execution_count": 0,
      "outputs": [
        {
          "output_type": "stream",
          "text": [
            "Episodio terminado en 13 pasos con recompensa de  13.00\n"
          ],
          "name": "stdout"
        }
      ]
    },
    {
      "cell_type": "markdown",
      "metadata": {
        "id": "koZ9JVD4unLC",
        "colab_type": "text"
      },
      "source": [
        "## Wrappers and monitors\n",
        "\n",
        "pág 40-43"
      ]
    },
    {
      "cell_type": "code",
      "metadata": {
        "id": "CKKuAVzWtjsU",
        "colab_type": "code",
        "colab": {}
      },
      "source": [
        ""
      ],
      "execution_count": 0,
      "outputs": []
    }
  ]
}