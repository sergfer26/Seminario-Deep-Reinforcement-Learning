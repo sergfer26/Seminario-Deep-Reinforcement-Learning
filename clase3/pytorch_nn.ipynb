{
  "nbformat": 4,
  "nbformat_minor": 0,
  "metadata": {
    "colab": {
      "name": "pytorch_nn.ipynb",
      "provenance": [],
      "collapsed_sections": [],
      "include_colab_link": true
    },
    "kernelspec": {
      "name": "python3",
      "display_name": "Python 3"
    }
  },
  "cells": [
    {
      "cell_type": "markdown",
      "metadata": {
        "id": "view-in-github",
        "colab_type": "text"
      },
      "source": [
        "<a href=\"https://colab.research.google.com/github/sergfer26/Seminario-Deep-Reinforcement-Learning/blob/master/clase3/pytorch_nn.ipynb\" target=\"_parent\"><img src=\"https://colab.research.google.com/assets/colab-badge.svg\" alt=\"Open In Colab\"/></a>"
      ]
    },
    {
      "cell_type": "markdown",
      "metadata": {
        "id": "lzeyCc3VZLeh",
        "colab_type": "text"
      },
      "source": [
        "# Componentes de una red Neuronal con Pytorch \n",
        "\n",
        "## Funciones de activación\n",
        "\n",
        "### Sigmoid\n",
        "\n",
        "Es una función $f: \\mathbb{R}\\rightarrow [0, 1]$ dada por \n",
        "\n",
        "$$f(x) = \\frac{1}{1 +e^{-x}}$$"
      ]
    },
    {
      "cell_type": "code",
      "metadata": {
        "id": "bhx3OuZDVP7j",
        "colab_type": "code",
        "outputId": "9c11d9c2-ba40-4369-ec4a-3cac5a27b038",
        "colab": {
          "base_uri": "https://localhost:8080/",
          "height": 324
        }
      },
      "source": [
        "import torch \n",
        "import matplotlib.pyplot as plt\n",
        "\n",
        "x = torch.range(-5., 5., 0.1)\n",
        "y = torch.sigmoid(x)\n",
        "plt.plot(x.numpy(), y.numpy())\n",
        "plt.show()"
      ],
      "execution_count": 0,
      "outputs": [
        {
          "output_type": "stream",
          "text": [
            "/usr/local/lib/python3.6/dist-packages/ipykernel_launcher.py:4: UserWarning: torch.range is deprecated in favor of torch.arange and will be removed in 0.5. Note that arange generates values in [start; end), not [start; end].\n",
            "  after removing the cwd from sys.path.\n"
          ],
          "name": "stderr"
        },
        {
          "output_type": "display_data",
          "data": {
            "image/png": "[encoded data removed]",
            "text/plain": [
              "<Figure size 432x288 with 1 Axes>"
            ]
          },
          "metadata": {
            "tags": []
          }
        }
      ]
    },
    {
      "cell_type": "markdown",
      "metadata": {
        "id": "NA7JMEwgbJnw",
        "colab_type": "text"
      },
      "source": [
        "\n",
        "### Tanh\n",
        "\n",
        "Es una función $f: \\mathbb{R}\\rightarrow [-1, 1]$ dada por \n",
        "\n",
        "$$f(x) = \\frac{e^x -e^{-x}}{e^{x} +e^{-x}}$$"
      ]
    },
    {
      "cell_type": "code",
      "metadata": {
        "id": "Z_UFqoOqax-H",
        "colab_type": "code",
        "outputId": "31e42170-2551-404d-8211-e8f3fbbe49ff",
        "colab": {
          "base_uri": "https://localhost:8080/",
          "height": 269
        }
      },
      "source": [
        "y = torch.tanh(x)\n",
        "plt.plot(x.numpy(), y.numpy())\n",
        "plt.show()"
      ],
      "execution_count": 0,
      "outputs": [
        {
          "output_type": "display_data",
          "data": {
            "image/png": "[encoded data removed]",
            "text/plain": [
              "<Figure size 432x288 with 1 Axes>"
            ]
          },
          "metadata": {
            "tags": []
          }
        }
      ]
    },
    {
      "cell_type": "markdown",
      "metadata": {
        "id": "0LYS7sz3cI-A",
        "colab_type": "text"
      },
      "source": [
        "### ReLU\n",
        "La función ReLU debe su nombre al termino *rectified linear unit*, es una de la funciones de activación que han obtenido importantes resultados en tiempos recientes.\n",
        "\n",
        "$$f(x) = \\max(0, x)$$\n"
      ]
    },
    {
      "cell_type": "code",
      "metadata": {
        "id": "bY0FJ1v9b-73",
        "colab_type": "code",
        "outputId": "59fea85c-9356-401d-b520-de028ddf9bb5",
        "colab": {
          "base_uri": "https://localhost:8080/",
          "height": 269
        }
      },
      "source": [
        "relu = torch.nn.ReLU()\n",
        "y = relu(x)\n",
        "plt.plot(x.numpy(), y.numpy())\n",
        "plt.show()"
      ],
      "execution_count": 0,
      "outputs": [
        {
          "output_type": "display_data",
          "data": {
            "image/png": "[encoded data removed]",
            "text/plain": [
              "<Figure size 432x288 with 1 Axes>"
            ]
          },
          "metadata": {
            "tags": []
          }
        }
      ]
    },
    {
      "cell_type": "markdown",
      "metadata": {
        "id": "tcP6EbqGdg3D",
        "colab_type": "text"
      },
      "source": [
        "Su versión paramétrica llamada  *PReLU* esta dado por \n",
        "$$f(x) = \\max(x, ax)$$"
      ]
    },
    {
      "cell_type": "code",
      "metadata": {
        "id": "wsTJVx06dRWw",
        "colab_type": "code",
        "outputId": "a3634d5c-e5e5-4479-b859-ddf9d4a798bb",
        "colab": {
          "base_uri": "https://localhost:8080/",
          "height": 269
        }
      },
      "source": [
        "prelu = torch.nn.PReLU(num_parameters=1)\n",
        "x = prelu(x)\n",
        "plt.plot(x.detach().numpy(), y.numpy())\n",
        "plt.show()"
      ],
      "execution_count": 0,
      "outputs": [
        {
          "output_type": "display_data",
          "data": {
            "image/png": "[encoded data removed]",
            "text/plain": [
              "<Figure size 432x288 with 1 Axes>"
            ]
          },
          "metadata": {
            "tags": []
          }
        }
      ]
    },
    {
      "cell_type": "markdown",
      "metadata": {
        "id": "KIUYDW9ve4UX",
        "colab_type": "text"
      },
      "source": [
        "### Softmax\n",
        "\n",
        "Es una función muy útil para la interpretación de valores para clasificación multiclase, esta función esta dada por\n",
        "\n",
        "$$softmax(x_i) = \\frac{e^{x_i}}{\\sum_{j=1}^{k}e^{x_j}},$$\n",
        "\n",
        "note que esta función se puede pensar como la función de densidad discreta de una variable aleatorai."
      ]
    },
    {
      "cell_type": "code",
      "metadata": {
        "id": "7y9smYnaeY84",
        "colab_type": "code",
        "outputId": "ff4e80bb-f0cd-4413-c56d-12080254ba0d",
        "colab": {
          "base_uri": "https://localhost:8080/",
          "height": 69
        }
      },
      "source": [
        "softmax = torch.nn.Softmax(dim=1)\n",
        "x = torch.rand(1, 3)\n",
        "y = softmax(x)\n",
        "print(x)\n",
        "print(y)\n",
        "print(torch.sum(y, dim=1))"
      ],
      "execution_count": 0,
      "outputs": [
        {
          "output_type": "stream",
          "text": [
            "tensor([[0.7253, 0.8037, 0.5478]])\n",
            "tensor([[0.3426, 0.3705, 0.2869]])\n",
            "tensor([1.])\n"
          ],
          "name": "stdout"
        }
      ]
    },
    {
      "cell_type": "markdown",
      "metadata": {
        "id": "Htj59NwqhPDO",
        "colab_type": "text"
      },
      "source": [
        "## Función de costos\n",
        "\n",
        "### Mean Squared Error Loss (MSE)\n",
        "\n",
        "Para problemas de regresión donde $\\hat{y}$ es un valor estimado y $y$ es la etiqueta, calculamos el error por medio de la siguiente función\n",
        "\n",
        "$$L(y, \\hat{y}) = \\frac{1}{n}\\sum_{i=1}^{n}(y-\\hat y)^2$$"
      ]
    },
    {
      "cell_type": "code",
      "metadata": {
        "id": "-BHMaexDi0Or",
        "colab_type": "code",
        "outputId": "c5f6a16b-8fe2-47eb-f4a9-bf2c3b4ff197",
        "colab": {
          "base_uri": "https://localhost:8080/",
          "height": 34
        }
      },
      "source": [
        "import torch.nn as nn\n",
        "\n",
        "mse_loss = nn.MSELoss()\n",
        "yhat = torch.rand(3, 5, requires_grad = True)\n",
        "y = torch.rand(3, 5)\n",
        "loss = mse_loss(y, yhat)\n",
        "print(loss)"
      ],
      "execution_count": 0,
      "outputs": [
        {
          "output_type": "stream",
          "text": [
            "tensor(0.1836, grad_fn=<MeanBackward0>)\n"
          ],
          "name": "stdout"
        }
      ]
    },
    {
      "cell_type": "markdown",
      "metadata": {
        "id": "DS-Q7cc1k8Sl",
        "colab_type": "text"
      },
      "source": [
        "### Categorical Cross-Entropy Loss\n",
        "\n",
        "Una función usada para la clasificación multiclase. Suponiendo que $y$ y $\\hat y$ siguen una distribución multinomial de tamaño $n$, la función de costos nos dirá que tan distintos son ambos resultados\n",
        "\n",
        "$$L(y, \\hat{y}) = - \\sum_{i=1}^n y_i \\log(\\hat{y_i}) $$"
      ]
    },
    {
      "cell_type": "code",
      "metadata": {
        "id": "WNLsD90Hjcqd",
        "colab_type": "code",
        "outputId": "0c1b36c8-1c1b-4d87-cc4e-ad0ee6e49b54",
        "colab": {
          "base_uri": "https://localhost:8080/",
          "height": 34
        }
      },
      "source": [
        "ce_loss = nn.CrossEntropyLoss()\n",
        "yhat = torch.rand(3, 5, requires_grad = True)\n",
        "y = torch.tensor([1, 0, 3], dtype=torch.int64)\n",
        "loss = ce_loss(yhat, y)\n",
        "print(loss)"
      ],
      "execution_count": 0,
      "outputs": [
        {
          "output_type": "stream",
          "text": [
            "tensor(1.7573, grad_fn=<NllLossBackward>)\n"
          ],
          "name": "stdout"
        }
      ]
    },
    {
      "cell_type": "markdown",
      "metadata": {
        "id": "SesIHmFKo1E8",
        "colab_type": "text"
      },
      "source": [
        "## Binary Cross-Entropy Loss \n",
        "\n",
        "Es el caso particular de la función anterior, se usa cuando únicamente trabajamos con dos clases."
      ]
    },
    {
      "cell_type": "code",
      "metadata": {
        "id": "6H-qZeFTnEhd",
        "colab_type": "code",
        "outputId": "78894079-93e3-475a-b558-52b9387a450f",
        "colab": {
          "base_uri": "https://localhost:8080/",
          "height": 104
        }
      },
      "source": [
        "bce_loss = nn.BCELoss()\n",
        "sigmoid = nn.Sigmoid()\n",
        "ps = sigmoid(torch.rand(4, 1, requires_grad=True)) # probabilidades\n",
        "y = torch.tensor([1, 0, 1, 0],  dtype=torch.float32).view(4, 1)\n",
        "loss = bce_loss(ps, y)\n",
        "print(ps)\n",
        "print(loss)"
      ],
      "execution_count": 0,
      "outputs": [
        {
          "output_type": "stream",
          "text": [
            "tensor([[0.6713],\n",
            "        [0.6310],\n",
            "        [0.5128],\n",
            "        [0.5977]], grad_fn=<SigmoidBackward>)\n",
            "tensor(0.7435, grad_fn=<BinaryCrossEntropyBackward>)\n"
          ],
          "name": "stdout"
        }
      ]
    },
    {
      "cell_type": "code",
      "metadata": {
        "id": "nEGqWWseqx7k",
        "colab_type": "code",
        "colab": {}
      },
      "source": [
        ""
      ],
      "execution_count": 0,
      "outputs": []
    }
  ]
}